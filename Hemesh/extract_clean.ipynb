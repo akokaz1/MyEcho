{
 "cells": [
  {
   "cell_type": "markdown",
   "metadata": {},
   "source": [
    "This script opens up all the file in the respsetive directory and cleans up all the data related to the universtiy/course ranking and the file is then saved in it's respective directory.  "
   ]
  },
  {
   "cell_type": "code",
   "execution_count": 25,
   "metadata": {
    "collapsed": false
   },
   "outputs": [],
   "source": [
    "import pandas as pd\n",
    "import numpy as np\n",
    "import os"
   ]
  },
  {
   "cell_type": "code",
   "execution_count": 26,
   "metadata": {
    "collapsed": false
   },
   "outputs": [],
   "source": [
    "def to_tab_del(file_name):\n",
    "    headers = ['Rank 2017', 'Rank 2016', 'Univeristy Name', 'Entery Standards','Student Satisfaction', 'Research Quality', \n",
    "              'Graducate Prospects', 'Overall Score']\n",
    "    df = pd.read_table(\"C:\\Users\\student01\\Desktop\\MyEcho\\University_Data\\\\\" + file_name, sep='\\t', names = \n",
    "                   ['Rank 2017', 'Rank 2016', 'Univeristy Name', 'Entery Standards', \n",
    "                    'Student Satisfaction', 'Research Quality', 'Graducate Prospects', 'Overall Score'])\n",
    "    headers = ['Rank 2017', 'Rank 2016', 'Univeristy Name', 'Entery Standards', 'Student Satisfaction', 'Research Quality', \n",
    "          'Graducate Prospects', 'Overall Score']\n",
    "    df1 = {}\n",
    "    for header in headers:\n",
    "        col = [str(i) for i in df[header]]\n",
    "        new_col = []\n",
    "        for cell in col:\n",
    "            if len(cell)==1:\n",
    "                cell = 'N/A'\n",
    "            new_col.append(cell)\n",
    "        df1[header] = new_col\n",
    "    df2 = pd.DataFrame(df1)\n",
    "    df2 = pd.DataFrame(df2, columns =['Rank 2017', 'Rank 2016', 'Univeristy Name', 'Entery Standards', 'Student Satisfaction', \n",
    "                                  'Research Quality', 'Graducate Prospects', 'Overall Score'])\n",
    "    df3 = df[['Rank 2017', 'Rank 2016', 'Univeristy Name']]\n",
    "    df4 = df2[['Entery Standards', 'Student Satisfaction', 'Research Quality', 'Graducate Prospects', 'Overall Score']]\n",
    "    result = pd.concat([df3, df4], axis=1) \n",
    "    result.to_csv(\"C:\\Users\\student01\\Desktop\\MyEcho\\CleanData_Ranking\\\\\"+ file_name, sep='\\t', index=False, na_rep='99999', \n",
    "                  header = ['Rank 2017', 'Rank 2016', 'Univeristy Name', 'Entery Standards','Student Satisfaction', \n",
    "                            'Research Quality', 'Graducate Prospects', 'Overall Score'])"
   ]
  },
  {
   "cell_type": "code",
   "execution_count": 27,
   "metadata": {
    "collapsed": false
   },
   "outputs": [],
   "source": [
    "path = 'C:\\Users\\student01\\Desktop\\MyEcho\\University_Data'\n",
    "lst = [x[2] for x in os.walk(path)]\n",
    "for l in lst:\n",
    "    for file_name in l:\n",
    "        file_l.append(file_name)"
   ]
  }
 ],
 "metadata": {
  "anaconda-cloud": {},
  "kernelspec": {
   "display_name": "Python [Root]",
   "language": "python",
   "name": "Python [Root]"
  },
  "language_info": {
   "codemirror_mode": {
    "name": "ipython",
    "version": 2
   },
   "file_extension": ".py",
   "mimetype": "text/x-python",
   "name": "python",
   "nbconvert_exporter": "python",
   "pygments_lexer": "ipython2",
   "version": "2.7.12"
  }
 },
 "nbformat": 4,
 "nbformat_minor": 0
}
