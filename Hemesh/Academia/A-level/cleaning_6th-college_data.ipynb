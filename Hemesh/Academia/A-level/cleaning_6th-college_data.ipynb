{
 "cells": [
  {
   "cell_type": "code",
   "execution_count": 1,
   "metadata": {
    "collapsed": false
   },
   "outputs": [],
   "source": [
    "import pandas as pd\n",
    "import numpy as np\n",
    "from sklearn import preprocessing"
   ]
  },
  {
   "cell_type": "code",
   "execution_count": 2,
   "metadata": {
    "collapsed": false
   },
   "outputs": [],
   "source": [
    "df = pd.read_csv('6th-college_ranking_raw.txt', sep='\\t')\n",
    "df = df[pd.notnull(df['School Name'])] #Drop all row with no school name"
   ]
  },
  {
   "cell_type": "raw",
   "metadata": {},
   "source": [
    "The next two cells will work out the average of 'Average Point Score' and replace the Nulls, SUPP and NE with the average score"
   ]
  },
  {
   "cell_type": "code",
   "execution_count": 3,
   "metadata": {
    "collapsed": false
   },
   "outputs": [],
   "source": [
    "#Get colum into list\n",
    "df1 = df['Average Point Score'].fillna(0) #replace nulls with 0's\n",
    "aps = list(df1)"
   ]
  },
  {
   "cell_type": "code",
   "execution_count": 4,
   "metadata": {
    "collapsed": false
   },
   "outputs": [
    {
     "data": {
      "text/plain": [
       "29.72"
      ]
     },
     "execution_count": 4,
     "metadata": {},
     "output_type": "execute_result"
    }
   ],
   "source": [
    "# Drop 0's, SUPP's and NE's and work out average\n",
    "aps = [float(x) for x in aps if x !=0 and x !='SUPP' and x != 'NE']\n",
    "average = float('{0:.2f}'.format((sum(aps)/len(aps))))\n",
    "average"
   ]
  },
  {
   "cell_type": "code",
   "execution_count": 5,
   "metadata": {
    "collapsed": false
   },
   "outputs": [],
   "source": [
    "# Replace the NaN's, SUPP's and NE's with the average\n",
    "df['Average Point Score'].fillna(average, inplace=True)\n",
    "df['Average Point Score'] = df['Average Point Score'].replace(['SUPP', 'NE'], average)"
   ]
  },
  {
   "cell_type": "code",
   "execution_count": 6,
   "metadata": {
    "collapsed": true
   },
   "outputs": [],
   "source": [
    "# Convert acronym's to full names in School Type. Note if but into a database we should normlise\n",
    "df['School Type'] = df['School Type'].replace('AC', 'Sponsored academy')\n",
    "df['School Type'] = df['School Type'].replace('ACC', 'Academy converter - mainstream')\n",
    "df['School Type'] = df['School Type'].replace('AC1619', 'Academy 16-19 sponsor led')\n",
    "df['School Type'] = df['School Type'].replace('ACCS', 'Academy converter - special school')\n",
    "df['School Type'] = df['School Type'].replace('ACS', 'Sponsored special academy')\n",
    "df['School Type'] = df['School Type'].replace('CTC', 'City technology college')\n",
    "df['School Type'] = df['School Type'].replace('CY', 'Community school')\n",
    "df['School Type'] = df['School Type'].replace('CYS', 'Community special school')\n",
    "df['School Type'] = df['School Type'].replace('F', 'Free school - mainstream')\n",
    "df['School Type'] = df['School Type'].replace('FD', 'Foundation school')\n",
    "df['School Type'] = df['School Type'].replace('FDS', 'Foundation special school')\n",
    "df['School Type'] = df['School Type'].replace('FS', 'Free school - special')\n",
    "df['School Type'] = df['School Type'].replace('FSS', 'Free school - studio school')\n",
    "df['School Type'] = df['School Type'].replace('FUTC', 'Free school - UTC (university technical college)')\n",
    "df['School Type'] = df['School Type'].replace('F1619', 'Free school - 16-19')\n",
    "df['School Type'] = df['School Type'].replace('IND', 'Independent school')\n",
    "df['School Type'] = df['School Type'].replace('INDSPEC', 'Independent special school')\n",
    "df['School Type'] = df['School Type'].replace('MODFC', 'College funded by Ministry of Defence')\n",
    "df['School Type'] = df['School Type'].replace('NMSS', 'Non-maintained special school')\n",
    "df['School Type'] = df['School Type'].replace('VA', 'Voluntary aided school')\n",
    "df['School Type'] = df['School Type'].replace('VC', 'Voluntary controlled school')"
   ]
  },
  {
   "cell_type": "code",
   "execution_count": 7,
   "metadata": {
    "collapsed": false
   },
   "outputs": [],
   "source": [
    "df.to_csv('6th-college_ranking_clean.txt', sep = '\\t', index=False)"
   ]
  },
  {
   "cell_type": "code",
   "execution_count": null,
   "metadata": {
    "collapsed": true
   },
   "outputs": [],
   "source": []
  }
 ],
 "metadata": {
  "anaconda-cloud": {},
  "kernelspec": {
   "display_name": "Python [Root]",
   "language": "python",
   "name": "Python [Root]"
  },
  "language_info": {
   "codemirror_mode": {
    "name": "ipython",
    "version": 2
   },
   "file_extension": ".py",
   "mimetype": "text/x-python",
   "name": "python",
   "nbconvert_exporter": "python",
   "pygments_lexer": "ipython2",
   "version": "2.7.12"
  }
 },
 "nbformat": 4,
 "nbformat_minor": 0
}
