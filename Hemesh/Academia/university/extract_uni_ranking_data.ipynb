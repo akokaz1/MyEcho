{
 "cells": [
  {
   "cell_type": "markdown",
   "metadata": {},
   "source": [
    "This script opens up all the file in the respsetive directory and cleans up all the data related to the universtiy/course ranking and the file is then saved in it's respective directory. Note the final documents are tab delimited.  \n",
    "\n",
    "The file paths will differ, note that in the 3rd cell, I am traversing through all the files, which includes the university ranking data as well as the individual course ranking."
   ]
  },
  {
   "cell_type": "code",
   "execution_count": 5,
   "metadata": {
    "collapsed": false
   },
   "outputs": [],
   "source": [
    "import pandas as pd\n",
    "import numpy as np\n",
    "import os"
   ]
  },
  {
   "cell_type": "code",
   "execution_count": 12,
   "metadata": {
    "collapsed": false
   },
   "outputs": [],
   "source": [
    "def to_tab_del(file_name):\n",
    "    headers = ['Rank 2017', 'Rank 2016', 'Univeristy Name', 'Entery Standards','Student Satisfaction', 'Research Quality', \n",
    "              'Graducate Prospects', 'Overall Score']\n",
    "    #Reads the tab delimited files\n",
    "    df = pd.read_table(\"C:\\Users\\student01\\Desktop\\MyEcho\\Academia\\university\\university_raw_data\\uni_ranking\\\\\" + file_name, sep='\\t', names = \n",
    "                   ['Rank 2017', 'Rank 2016', 'Univeristy Name', 'Entery Standards', \n",
    "                    'Student Satisfaction', 'Research Quality', 'Graducate Prospects', 'Overall Score'])  \n",
    "    \n",
    "    df1 = {} # Empty dict, I will insert partly cleaned columns\n",
    "    for header in headers:\n",
    "        col = [str(i) for i in df[header]]  #Convert each element in dataframe into a string, so I can replace the empty cells\n",
    "        new_col = []\n",
    "        for cell in col:\n",
    "            if len(cell)==1: # Note that the numbers 1-9 will be replaced, I will replace the first 2 columns from the original df\n",
    "                cell = 'N/A'\n",
    "            new_col.append(cell)\n",
    "        df1[header] = new_col\n",
    "    \n",
    "    # Reorder columns of the dataframe with adjusted columns types\n",
    "    df2 = pd.DataFrame(df1, columns =['Rank 2017', 'Rank 2016', 'Univeristy Name', 'Entery Standards', 'Student Satisfaction', \n",
    "                                  'Research Quality', 'Graducate Prospects', 'Overall Score']) \n",
    "    df3 = df[['Rank 2017']][::-1].reset_index()# Collects first 2 columns and reverse the order. New column - index\n",
    "\n",
    "\n",
    "    df4 = df2[['Univeristy Name', 'Entery Standards', 'Student Satisfaction', 'Research Quality', 'Graducate Prospects', \n",
    "           'Overall Score']]\n",
    "\n",
    "    final_df = pd.concat([df3, df4], axis=1) # join the two df's\n",
    "\n",
    "    final_df = final_df.drop('index', 1) # drop the additional column\n",
    "    final_df.columns = ['Rank 2017 - Reversed', 'Univeristy Name', 'Entery Standards', \n",
    "                    'Student Satisfaction', 'Research Quality', 'Graducate Prospects', 'Overall Score'] # Renaming columns\n",
    "    final_df\n",
    "    final_df.to_csv(\"C:\\Users\\student01\\Desktop\\MyEcho\\Academia\\university\\university_ranking_clean\\uni_rank\\\\\"+ file_name, sep='\\t', index=False)"
   ]
  },
  {
   "cell_type": "code",
   "execution_count": 13,
   "metadata": {
    "collapsed": false
   },
   "outputs": [],
   "source": [
    "path = 'C:\\Users\\student01\\Desktop\\MyEcho\\Academia\\university\\university_raw_data\\uni_ranking'\n",
    "lst = [x[2] for x in os.walk(path)]\n",
    "file_l = [] # List of all the files that need cleaning\n",
    "for l in lst:\n",
    "    for file_name in l:\n",
    "        file_l.append(file_name)"
   ]
  },
  {
   "cell_type": "code",
   "execution_count": 14,
   "metadata": {
    "collapsed": false
   },
   "outputs": [],
   "source": [
    "#This cell loops through the names of the files and runs the function to saves the cleaned files\n",
    "for file in file_l:\n",
    "    to_tab_del(file)"
   ]
  },
  {
   "cell_type": "code",
   "execution_count": null,
   "metadata": {
    "collapsed": true
   },
   "outputs": [],
   "source": []
  }
 ],
 "metadata": {
  "anaconda-cloud": {},
  "kernelspec": {
   "display_name": "Python [Root]",
   "language": "python",
   "name": "Python [Root]"
  },
  "language_info": {
   "codemirror_mode": {
    "name": "ipython",
    "version": 2
   },
   "file_extension": ".py",
   "mimetype": "text/x-python",
   "name": "python",
   "nbconvert_exporter": "python",
   "pygments_lexer": "ipython2",
   "version": "2.7.12"
  }
 },
 "nbformat": 4,
 "nbformat_minor": 0
}
